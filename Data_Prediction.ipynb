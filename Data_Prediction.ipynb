{
 "cells": [
  {
   "cell_type": "code",
   "execution_count": null,
   "metadata": {},
   "outputs": [],
   "source": [
    "import numpy as np\n",
    "import pandas as pd\n",
    "import sklearn as sk\n",
    "import matplotlib.pyplot as plt\n",
    "from sklearn.decomposition import PCA"
   ]
  },
  {
   "cell_type": "code",
   "execution_count": null,
   "metadata": {},
   "outputs": [],
   "source": [
    "# read the data into a pandas dataframe and remove the column with the entry number\n",
    "data = pd.read_csv(\"Data/ds_salaries.csv\")\n",
    "data.drop(\"Unnamed: 0\", axis = 1, inplace = True)\n",
    "data.drop(\"salary\", axis= 1, inplace = True)\n",
    "data.drop(\"salary_currency\", axis = 1, inplace = True)\n",
    "us_salary = data.drop(data[data[\"employee_residence\"] != \"US\"].index)\n",
    "us_salary.drop(\"company_location\", axis = 1, inplace = True)\n",
    "us_salary.drop(\"employee_residence\", axis = 1, inplace = True)\n",
    "# convert the columns to proper data types for dummies\n",
    "us_salary.convert_dtypes().dtypes\n",
    "us_target = us_salary[\"salary_in_usd\"]\n",
    "us_predictors = us_salary.drop('salary_in_usd', axis = 1)\n",
    "print(us_target)\n",
    "print(us_predictors)"
   ]
  },
  {
   "cell_type": "code",
   "execution_count": null,
   "metadata": {},
   "outputs": [],
   "source": [
    "# Experience Level:\n",
    "# EN = entry level/junior\n",
    "# MI = Mid-level / Intermediate \n",
    "# SE = Senior-level / Expert \n",
    "# EX = Executive-level / Director\n",
    "# Employment Type:\n",
    "# PT = Part-time \n",
    "# FT = Full-time \n",
    "# CT = Contract \n",
    "# FL = Freelance\n",
    "experience_split = pd.get_dummies(us_predictors, columns = ['experience_level', 'employment_type', 'job_title', \"company_size\", \"work_year\", \"remote_ratio\"])\n",
    "pca = PCA(n_components = 5)\n",
    "us_salary_pca = pca.fit_transform(experience_split)\n",
    "plt.plot(pca.explained_variance_ / sum(pca.explained_variance_), \"o-r\")"
   ]
  },
  {
   "cell_type": "code",
   "execution_count": null,
   "metadata": {},
   "outputs": [],
   "source": []
  },
  {
   "cell_type": "code",
   "execution_count": null,
   "metadata": {},
   "outputs": [],
   "source": []
  }
 ],
 "metadata": {
  "kernelspec": {
   "display_name": "Python 3",
   "language": "python",
   "name": "python3"
  },
  "language_info": {
   "codemirror_mode": {
    "name": "ipython",
    "version": 3
   },
   "file_extension": ".py",
   "mimetype": "text/x-python",
   "name": "python",
   "nbconvert_exporter": "python",
   "pygments_lexer": "ipython3",
   "version": "3.7.6"
  }
 },
 "nbformat": 4,
 "nbformat_minor": 4
}
